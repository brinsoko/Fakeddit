{
 "cells": [
  {
   "cell_type": "markdown",
   "id": "eb66e60b",
   "metadata": {},
   "source": []
  },
  {
   "cell_type": "markdown",
   "id": "64cb5888",
   "metadata": {},
   "source": [
    "<p style=\"margin-bottom:2cm;\"></p>\n",
    "\n",
    "\n",
    "# Prepoznava lažnih novic\n",
    "\n",
    "\n",
    "Ime Priimek: Brin Soko\n",
    "\n",
    "Predmet: Optimizacija v telekomunikacijah\n",
    "\n",
    "Datum: 18. 5. 2025\n",
    "\n",
    "\n",
    "<p style=\"margin-bottom:2cm;\"></p>"
   ]
  },
  {
   "cell_type": "markdown",
   "id": "1e57ed74",
   "metadata": {},
   "source": [
    "## Kazalo\n",
    "\n",
    "\n",
    "[Povzetek](#povzetek)\n",
    "\n",
    "1. [Uvod](#uvod)\n",
    "    1. [Opredelitev področja](#opredelitev-podrocja)\n",
    "    2. [Predstavitev problema](#predstavitev-problema) \n",
    "2. [Teoretično ozadje in trenutno stajne](#teoreticno-ozadje)\n",
    "    1. [Teoretični vidiki problema](#teoretični-vidiki-problema)\n",
    "    2. [Algoritmi](#algoritmi)\n",
    "    3. [Merjenje uspešnosti](#merjenje-uspesnosti-resitve)\n",
    "3. [Eksperimentalni del](#eksperimentalni-del)\n",
    "    1. [Podatki](#podatki)\n",
    "    2. [Eksperimentalni rezultati 1](#eksperimentalni-rezultati-1)\n",
    "    3. [Eksperimentalni rezultati 2](#eksperimentalni-rezultati-2)\n",
    "4. [Zaključek in razprava](#zakljucek-in-razprava)\n",
    "5. [Doseženi učni izidi](#dosezeni-ucni-izidi)\n",
    "6. [Literatura in viri](#literatura-in-viri)\n",
    "\n"
   ]
  },
  {
   "cell_type": "markdown",
   "id": "4b01f137",
   "metadata": {},
   "source": [
    "## Povzetek <a class=\"anchor\" id=\"povzetek\"></a>\n",
    "\n",
    "1. **Izhodišča:**\n",
    "   - Lažne novice predstavljajo resno grožnjo digitalnim informacijskim okoljem, zlasti na družbenih omrežjih. Zmožnost njihovega avtomatskega prepoznavanja je ključna za izboljšanje informacijske pismenosti in zajezitev dezinformacij.\n",
    "   - Projektna naloga se osredotoča na klasifikacijo lažnih novic z uporabo večmodalnega pristopa – kombinacijo **vizualnih (slikovnih)** in **tekstovnih** podatkov.\n",
    "\n",
    "2. **Rezultati:**\n",
    "   - Razvit je bil klasifikacijski model z uporabo predtrenirane arhitekture **CLIP** (za slike) in **DistilBERT** (za tekst), ki tvori vektorske predstavitve novic.\n",
    "   - Vgrajeni vektorji (embeddingi) so uporabljeni kot vhod v preprosto nevronsko mrežo, ki napove verjetnost, da je novica lažna.\n",
    "   - Na validacijskem naboru je model dosegel **F1 rezultat nad 0.83** in **točnost nad 87%**, kar kaže na visoko učinkovitost.\n",
    "\n",
    "3. **Prihodnje raziskovalne smeri:**\n",
    "   - Uporaba naprednejših arhitektur (npr. multimodal Transformers)\n",
    "   - Analiza vpliva različnih jezikov ali slikovnih stilov na rezultate\n",
    "   - Razširitev modela na več kot dve kategoriji (npr. clickbait, satira, propaganda)\n",
    "\n"
   ]
  },
  {
   "cell_type": "markdown",
   "id": "fa8a5676",
   "metadata": {},
   "source": [
    "## 1. Uvod <a class=\"anchor\" id=\"uvod\"></a>\n",
    "\n",
    "V digitalni dobi je razširjanje lažnih novic postalo ena ključnih groženj družbi. S pojavom družbenih omrežij in enostavno dostopnostjo objavljanja informacij so se mehanizmi širjenja dezinformacij izredno okrepili. Ročno preverjanje vsake novice je nepraktično, zato so avtomatski pristopi k zaznavanju lažnih novic postali pomembna raziskovalna smer.\n",
    "\n",
    "V tej projektni nalogi obravnavamo problem **avtomatske klasifikacije lažnih novic**, kjer za vsak primer (novico) analiziramo **naslov** in **pripadajočo sliko**. Gre za večmodalni pristop, kjer kombiniramo **tekstovne** in **vizualne** značilnosti, kar omogoča boljšo klasifikacijo kot uporaba samo enega podatkovnega vira.\n",
    "\n",
    "Problem definiramo kot **binarnu klasifikacijo**, kjer vsak vhodni primer razvrstimo v eno izmed dveh kategorij:\n",
    "- **0** – resnična novica\n",
    "- **1** – lažna novica\n",
    "\n",
    "Cilj naloge je zgraditi model, ki na podlagi naslovov in slik napove, ali je novica lažna, ter oceniti njegovo uspešnost z ustreznimi metričnimi kazalniki."
   ]
  },
  {
   "cell_type": "markdown",
   "id": "4a26cc86",
   "metadata": {},
   "source": [
    "### 1.1. Opredelitev področja <a class=\"anchor\" id=\"opredelitev-podrocja\"></a>\n",
    "\n",
    "\n",
    "Področje klasifikacije lažnih novic spada v širšo vejo **umetne inteligence**, natančneje **strojnega učenja** in **obdelave naravnega jezika (NLP)** ter **računalniškega vida (CV)**. Glavni cilj področja je razviti avtomatizirane sisteme, ki lahko prepoznajo zavajajoče, napačne ali manipulativne informacije.\n",
    "\n",
    "Tradicionalno so se modeli za odkrivanje lažnih novic osredotočali predvsem na tekstovno vsebino (npr. članke, naslove, tvite). Vendar pa sodobne novice pogosto vsebujejo tudi **slike**, ki igrajo pomembno vlogo pri oblikovanju mnenja bralca. Zaradi tega se v zadnjem času pojavljajo **večmodalni pristopi**, ki kombinirajo besedilo in slike za celovitejšo analizo vsebine.\n",
    "\n",
    "Uporaba **predtrenirane umetne inteligence** (kot sta BERT za tekst in CLIP za slike) omogoča izgradnjo zmogljivih sistemov brez potrebe po treniranju kompleksnih modelov iz nič."
   ]
  },
  {
   "cell_type": "markdown",
   "id": "112e5e31",
   "metadata": {},
   "source": [
    "### 1.2 Predstavitev problema <a class=\"anchor\" id=\"predstavitev-problema\"></a>\n",
    "\n",
    "V tej nalogi rešujemo problem **binarnaga razvrščanja novic** glede na njihovo verodostojnost. Vsaka novica je sestavljena iz:\n",
    "- **naslova** (besedilo)\n",
    "- **slike** (vizualni element)\n",
    "- **oznake** (0 za resnično, 1 za lažno)\n",
    "\n",
    "Definiramo množico vhodnih podatkov kot par (slika in besedilo) in izhoda 0 ali 1, če je slika resnična ali lažna.\n",
    "\n",
    "Cilj je naučiti funkcijo, da prepozna lažne novice in za nov par vhodov vrne napoved verjetnosti, da je novica lažna.\n",
    "\n",
    "Za rešitev problema uporabljamo večmodalni model, kjer najprej ustvarimo **embeddinge** (vektorske predstavitve) besedila in slike z uporabo predtrenirane arhitekture:\n",
    "- **DistilBERT** za tekstovni del\n",
    "- **CLIP** za slikovni del\n",
    "\n",
    "Nato te embeddinge združimo in jih uporabimo kot vhod v preprost **nevronski klasifikator**, ki napove rezultat."
   ]
  },
  {
   "cell_type": "markdown",
   "id": "1c0384e4",
   "metadata": {},
   "source": [
    "## 2. Teoretično ozadje in trenutno stanje <a class=\"anchor\" id=\"teoreticno-ozadje\"></a>\n",
    "\n",
    "Avtomatska klasifikacija lažnih novic je aktivno raziskovano področje v okviru umetne inteligence in obdelave podatkov. Doslej so raziskovalci za ta namen uporabili različne pristope, med katerimi prevladujejo pristopi obdelave naravnega jezika (NLP), računalniškega vida in večmodalnega učenja. \n",
    "\n",
    "Ključni izzivi na tem področju so:\n",
    "- heterogenost podatkov (besedilo, slike, video),\n",
    "- kompleksnost semantičnega razumevanja vsebine,\n",
    "- hitra evolucija načinov širjenja dezinformacij.\n",
    "\n",
    "Zaradi teh izzivov raziskovalci vse bolj uporabljajo predtrenirane modele, ki so zmožni učinkovitega zajemanja in reprezentacije semantičnih informacij. V tem delu naloge najprej pregledamo teoretične temelje problema, nato predstavimo uporabljene algoritme ter nazadnje še metrike, s katerimi merimo uspešnost našega modela."
   ]
  },
  {
   "cell_type": "markdown",
   "id": "478e9ccf",
   "metadata": {},
   "source": [
    "### 2.1 Teoretični vidiki problema <a class=\"anchor\" id=\"teoretični-vidiki-problema\"></a>\n",
    "\n",
    "Klasifikacija novic na prave in lažne spada pod nadzorovano strojno učenje (supervised learning), kjer je cilj naučiti model, ki iz vhodnih podatkov napove ustrezno kategorijo.\n",
    "\n",
    "\n",
    "\n",
    "Rezultat je verjetnost, da je novica lažna. Uporabimo prag $0.5$ za končno binarno odločitev (0 ali 1).\n",
    "\n",
    "Pri tekstu uporabljamo jezikovne modele, ki pretvorijo vhodno besedilo v semantično bogat vektorski prostor. Za slike uporabljamo vizualne modele, ki prav tako izločijo informativne značilke iz vhodne slike. Tak pristop imenujemo **večmodalno učenje** (multimodal learning), saj kombinira različne tipe vhodnih podatkov."
   ]
  },
  {
   "cell_type": "markdown",
   "id": "b2c6794a",
   "metadata": {},
   "source": [
    "### 2.2 Algoritmi <a class=\"anchor\" id=\"algoritmi\"></a>\n",
    "\n",
    "Za ekstrakcijo značilk uporabljamo predtrenirane modele:\n",
    "\n",
    "- **DistilBERT**: lažja in hitrejša različica BERT-a, namenjena pretvorbi besedila v semantične vektorje (embeddinge). \n",
    "  \n",
    "- **CLIP**: večmodalni model, ki lahko projicira slike in besedilo v skupni vektorski prostor. V tej nalogi uporabimo le slikovno komponento za izračun značilk iz slik.\n",
    "\n",
    "Ti vektorji so nato vhod v enostaven **polno povezan nevronski klasifikator** (fully connected neural network), sestavljen iz:\n",
    "\n",
    "- Linearnega sloja\n",
    "- ReLU aktivacijske funkcije\n",
    "- Dropout sloja za regularizacijo\n",
    "- Končnega linearnega sloja z enim izhodom (logit)\n",
    "\n",
    "Izlogitirani rezultat pošljemo skozi **sigmoid funkcijo**, da dobimo verjetnost razreda $y = 1$."
   ]
  },
  {
   "cell_type": "markdown",
   "id": "8822f3a3",
   "metadata": {},
   "source": [
    "### 2.3 Merjenje uspešnosti <a class=\"anchor\" id=\"merjenje-uspesnosti-resitve\"></a>\n",
    "\n",
    "Model ocenjujemo z naslednjimi metrikami:\n",
    "\n",
    "- **Točnost (accuracy)**: razmerje med pravilnimi napovedmi in vsemi primeri.\n",
    "- **F1 rezultat (F1 score)**: sredina med preciznostjo in priklicem, še posebej primerna pri neuravnoteženih razredih. Pove koliko je lažnih resničnih (fake positive) novic.\n",
    "- **Preciznost (precision)**: delež resničnih pozitivnih med vsemi napovedanimi pozitivnimi.\n",
    "- **Priklic (recall)**: delež zaznanih pozitivnih primerov med vsemi dejanskimi pozitivnimi.\n",
    "\n",
    "Izračunamo jih po validacijski epohi, da ocenimo sposobnost posploševanja modela.\n",
    "\n",
    "Primer dobre uspešnosti:\n",
    "- Točnost: 87%\n",
    "- F1 rezultat: 0.83"
   ]
  },
  {
   "cell_type": "markdown",
   "id": "bbca58cb",
   "metadata": {},
   "source": [
    "### 3. Eksperimentalni del <a class=\"anchor\" id=\"eksperimentalni-del\"></a>\n",
    "\n",
    "Eksperimentalni del vsebuje predstavitev podatkov, opis izvedenih eksperimentov ter rezultate ocenjevanja uspešnosti razvitega klasifikatorja lažnih novic."
   ]
  },
  {
   "cell_type": "markdown",
   "id": "0d84bb96",
   "metadata": {},
   "source": [
    "### 3.1. Podatki <a class=\"anchor\" id=\"podatki\"></a>\n",
    "\n",
    "V eksperimentih uporabljamo javno dostopno večmodalno podatkovno množico, ki vključuje naslednje elemente za vsak primer:\n",
    "\n",
    "- **ID novice** – enolični identifikator primera.\n",
    "- **Naslov novice** – tekstovna vsebina, ki jo uporabimo za analizo semantičnega konteksta novice.\n",
    "- **Pripadajoča slika** – slikovna vsebina, ki lahko dopolnjuje ali nasprotuje tekstovni informaciji.\n",
    "- **Oznaka novice** – binarna oznaka:\n",
    "  - 0: resnična novica\n",
    "  - 1: lažna novica\n",
    "\n",
    "Podatki so razdeljeni v tri ločene množice:\n",
    "\n",
    "| Množica     | Velikost vzorca | Namen                      |\n",
    "|-------------|-----------------|----------------------------|\n",
    "| Učna        | ~564.000        | Učenje modela              |\n",
    "| Validacijska| ~59.300         | Izbira optimalnih parametrov|\n",
    "| Testna      | ~59.300         | Končna evalvacija modela   |"
   ]
  },
  {
   "cell_type": "markdown",
   "id": "e120716c",
   "metadata": {},
   "source": [
    "### 3.2. Eksperimentalni rezultati 1 <a class=\"anchor\" id=\"eksperimentalni-rezultati-1\"></a>\n",
    "\n",
    "Projekt je sestavljen iz treh delov.\n",
    "\n",
    "V prvem delu prensesemo tsv datoteke. Tsv datoteke vsebujejo povezave do slik, klasifikacijo, naslov in ostale podatke, ki nam lahko pomagajo pri klasifikaciji. Na voljo so na https://drive.google.com/drive/folders/1jU7qgDqU1je9Y0PMKJ_f31yXRo5uWGFm. \n",
    "\n",
    "Za prenos slik sem dopolnil image_dowloader datatoko, ki jo je pripravil avtor članka. Njegova različica je na voljo na https://github.com/entitize/Fakeddit.\n",
    "Moja različica je na voljo na https://github.com/brinsoko/Fakeddit. \n",
    "Bistveni popravki so:\n",
    "- Preskoči sliko, če ta ni več na voljo.\n",
    "- Če pride do napake pri prenosu počaka in ponovno poizksui.\n",
    "- Povečan izpis napak.\n",
    "- Podpira novejšo verzijo knižnic.\n",
    "\n",
    "Drugi del predpripavi embedinge, za hitrejšo kasnejšo obravnavo.\n",
    "- Združi slike in besedilo.\n",
    "- Spremeni velikost slik (da so vse enako velike). S tem povečamo hitrost obdelave.\n",
    "\n",
    "\n",
    "Tretji del z pomočjo algoritmov klasificira lažne novice in predstavi rezultate.\n",
    "V mojem primeru sem uporabljal 2-way klasifikacijo.\n",
    "\n",
    "Celotna koda je napisana v pythonu.\n",
    "Za replikacijo potrebujemo python, knižnice, ki so na voljo v requirements.txt dokumentu dostopnem na github repozitoriju.\n",
    "1. Prenesemo tsv datoteke.\n",
    "2. Zaženemo image_downloader.py.\n",
    "    ($ python image_downloader.py file_name)\n",
    "3. Shranimo slike ločeno po mapah, glede na to za kaj jih bomo uporabljali (train, validate, test).\n",
    "4. Začenemo preprocess.py datoteko, v njej popravimo poti do map, kjer se nahajo slike in poti do tsv datotek, ki jim pripadajo.\n",
    "5. Zaženemo glavno skripto (pt_trainer.py), ki klasificira novice iz podanih množic. (V primeru, da imamo na voljo GPU ga program zna izkoristiti).\n",
    "6. Rezultate izpiše v konzolo in shrani najboljši epoh v datoteko, izriše grafa natančnosti po epohih.\n",
    "\n"
   ]
  },
  {
   "cell_type": "markdown",
   "id": "fb263d01",
   "metadata": {},
   "source": [
    "### 3.3. Eksperimentalni rezultati 2 <a class=\"anchor\" id=\"eksperimentalni-rezultati-2\"></a>\n",
    "\n",
    "V prvem delu eksperimenta smo izdelali reprezentacije (embeddinge) besedil in slik z uporabo predtreniranih modelov:\n",
    "\n",
    "- **DistilBERT** za besedilni del (naslov novice).\n",
    "- **CLIP** (vizualni del) za slikovni embedding.\n",
    "\n",
    "Za vsak primer v podatkovni množici smo tako pridobili dva embeddinga, ki ju nato uporabimo kot vhod v končni klasifikator.\n",
    "\n",
    "\n",
    "V drugem delu eksperimenta smo izvedli klasifikacijo novic z uporabo prej pripravljenih embeddingov. Pri učenju modela smo uporabili preprost klasifikator, sestavljen iz polno povezanih slojev.\n",
    "\n",
    "Model smo trenirali 10 epoh z optimizacijskim algoritmom Adam in funkcijo izgube BCEWithLogitsLoss. Uspešnost modela na testni množici:\n",
    "\n",
    "| Metrika     | Rezultat |\n",
    "|-------------|----------|\n",
    "| Točnost     | 87,9 %   |\n",
    "| Preciznost  | 83,5 %   |\n",
    "| Priklic     | 83,4 %   |\n",
    "| **F1 rezultat**| **83,2 %** |\n",
    "\n",
    "Rezultati kažejo, da je model uspešno kombiniral tekstovne in vizualne informacije za prepoznavanje lažnih novic, s čimer je dokazano, da večmodalni pristop omogoča učinkovito klasifikacijo.\n",
    "\n",
    "\n",
    "\n",
    "![Graf](training_results_from_embeddings.png)\n",
    "\n"
   ]
  },
  {
   "cell_type": "markdown",
   "id": "c74cc2ad",
   "metadata": {},
   "source": [
    "## 4. Zaključek in razprava <a class=\"anchor\" id=\"zakljucek-in-razprava\"></a>\n",
    "\n",
    "\n",
    "V projektni nalogi smo raziskali možnost avtomatske klasifikacije lažnih novic z uporabo večmodalnega pristopa, ki kombinira tekstovne in vizualne informacije. Na podlagi javno dostopnih podatkov smo pripravili reprezentacije (embeddinge) s predtreniranimi modeli DistilBERT in CLIP ter jih uporabili za napoved verodostojnosti novic z enostavno nevronsko mrežo.\n",
    "\n",
    "Dosegli smo dobre rezultate na testnih podatkih:\n",
    "- **Točnost:** 87,9 %\n",
    "- **F1 rezultat:** 83,2 %\n",
    "\n",
    "Ti rezultati kažejo, da ima večmodalni pristop bistveno prednost pred modeli, ki uporabljajo zgolj tekstovne ali zgolj vizualne informacije. Kljub dobrim rezultatom pa obstaja še prostor za izboljšave:\n",
    "\n",
    "- **Naprednejše arhitekture:** Uporaba zmogljivejših večmodalnih Transformer modelov bi lahko še izboljšala rezultate.\n",
    "- **Izboljšave kakovosti podatkov:** Dodatno čiščenje in balansiranje podatkov bi lahko vplivalo na izboljšanje rezultatov.\n",
    "- **Podrobnejša analiza napak:** Identifikacija primerov, kjer model dela največ napak, bi pomagala pri bolj ciljanem izboljševanju.\n"
   ]
  },
  {
   "cell_type": "markdown",
   "id": "cc63b80c",
   "metadata": {},
   "source": [
    "## 5. Doseženi učni izidi <a class=\"anchor\" id=\"dosezeni-ucni-izidi\"></a>\n",
    "\n",
    "\n",
    "Pri izdelava sem se sem pridobil nove izkušnje:\n",
    "- Spoznal sem, da je na voljo veliko več modelov kot sem si mislil. Narejeni so človeku prijazno in so izjemno efektivni.\n",
    "- Delo (klasifikacija) je potekala veliko hitreje kot sem pričakoval.\n",
    "- Že z le par let starimi projekti imamo lahko težave z kompatibilnostjo.\n",
    "\n",
    "\n"
   ]
  },
  {
   "cell_type": "markdown",
   "id": "2b95fe2f",
   "metadata": {},
   "source": [
    "## 6. Literatura in viri  <a class=\"anchor\" id=\"literatura-in-viri\"></a>\n",
    "\n",
    "Seznam literature \n",
    "\n",
    "- https://github.com/entitize/Fakeddit\n",
    "- Kai Nakamura, Sharon Levy, William Yang Wang: _A New Multimodal Benchmark Dataset for Fine-grained Fake News Detection_ dostopno na: https://arxiv.org/pdf/1911.03854\n",
    "- https://fakeddit.netlify.app/"
   ]
  }
 ],
 "metadata": {
  "language_info": {
   "name": "python"
  }
 },
 "nbformat": 4,
 "nbformat_minor": 5
}
